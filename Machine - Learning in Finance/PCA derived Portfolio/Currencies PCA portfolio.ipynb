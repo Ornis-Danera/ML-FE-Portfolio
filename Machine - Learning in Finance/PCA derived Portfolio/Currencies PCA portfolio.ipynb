{
 "cells": [
  {
   "cell_type": "markdown",
   "metadata": {},
   "source": [
    "## Eigen-Portfolio Construction using Principal Component Analysis (PCA)\n",
    "\n",
    "### PCA via `sklearn.decomposition` using Major Fiat Currency Exchange Rates\n",
    "\n",
    "Welcome to the Principal Component Analysis (PCA) study on **foreign exchange (FX) markets**. \n",
    "\n",
    "The goal of this project is to perform a Principal Component Analysis (PCA) on the returns of selected currencies over specified time windows. \n",
    "\n",
    "Beyond simply interpreting the components’ weights in economic or financial terms, the analysis aims to identify the portfolios corresponding to \n",
    "\n",
    "principal components that produced the highest returns in each quarter and examine whether these portfolios persisted into subsequent quarters. \n",
    "\n",
    "Furthermore, the study investigates how the composition of top-performing portfolios varies across consecutive quarters and on a year-over-year \n",
    "\n",
    "basis, providing insight into the stability and dynamics of dominant currency factors over time.\n",
    "\n",
    "---\n"
   ]
  },
  {
   "cell_type": "code",
   "execution_count": 214,
   "metadata": {},
   "outputs": [
    {
     "name": "stdout",
     "output_type": "stream",
     "text": [
      "  pandas: 2.3.1\n"
     ]
    }
   ],
   "source": [
    "\n",
    "import numpy as np\n",
    "import datetime\n",
    "\n",
    "try:\n",
    "    import matplotlib.pyplot as plt\n",
    "    %matplotlib inline\n",
    "except:\n",
    "    pass\n",
    "\n",
    "try:\n",
    "    import pandas as pd\n",
    "    print(\"  pandas: %s\"% pd.__version__)\n",
    "except:\n",
    "    print(\"Missing pandas package\")\n",
    "\n",
    "\n",
    "\n",
    "import warnings\n",
    "warnings.filterwarnings(\"ignore\")  # keeps the output clean\n",
    "\n",
    "np.set_printoptions(precision=4, suppress=True)  # neatens PCA matrix displays\n"
   ]
  },
  {
   "cell_type": "code",
   "execution_count": 239,
   "metadata": {},
   "outputs": [
    {
     "name": "stderr",
     "output_type": "stream",
     "text": [
      "[*********************100%***********************]  5 of 5 completed"
     ]
    },
    {
     "name": "stdout",
     "output_type": "stream",
     "text": [
      "Ticker      CNYUSD=X  EURUSD=X  GBPUSD=X  JPYUSD=X  RUBUSD=X\n",
      "Date                                                        \n",
      "2007-01-01  0.128107  1.321895  1.964212  0.008412  0.038016\n",
      "2007-01-02  0.128107  1.327598  1.973399  0.008415  0.038016\n",
      "2007-01-03  0.128107  1.317107  1.952210  0.008379  0.037987\n",
      "2007-01-04  0.128279  1.309295  1.942993  0.008415  0.037895\n",
      "2007-01-05  0.128222  1.298499  1.930800  0.008425  0.037786\n"
     ]
    },
    {
     "name": "stderr",
     "output_type": "stream",
     "text": [
      "\n"
     ]
    }
   ],
   "source": [
    "# Install if you haven't already\n",
    "# pip install yfinance\n",
    "\n",
    "import yfinance as yf\n",
    "import pandas as pd\n",
    "\n",
    "# List of tickers for exchange rates\n",
    "tickers = [\n",
    "    \"EURUSD=X\",  # Euro (Germany/France)\n",
    "    \"GBPUSD=X\",  # British Pound (UK)\n",
    "    \"JPYUSD=X\",  # Japanese Yen\n",
    "    \"RUBUSD=X\",  # Russian Ruble\n",
    "    \"CNYUSD=X\",  # Chinese Yuan\n",
    "]\n",
    "\n",
    "\n",
    "# Download historical data (daily)\n",
    "\n",
    "fx_data = yf.download(\n",
    "    tickers,\n",
    "    start=\"2007-01-01\",\n",
    "    end=\"2024-12-30\"\n",
    ")['Close']\n",
    "\n",
    "# Preview data\n",
    "print(fx_data.head())\n"
   ]
  },
  {
   "cell_type": "code",
   "execution_count": null,
   "metadata": {},
   "outputs": [],
   "source": []
  },
  {
   "cell_type": "code",
   "execution_count": 240,
   "metadata": {},
   "outputs": [
    {
     "name": "stdout",
     "output_type": "stream",
     "text": [
      "72\n",
      "[Period('2007Q1', 'Q-DEC'), Period('2007Q2', 'Q-DEC'), Period('2007Q3', 'Q-DEC'), Period('2007Q4', 'Q-DEC'), Period('2008Q1', 'Q-DEC'), Period('2008Q2', 'Q-DEC'), Period('2008Q3', 'Q-DEC'), Period('2008Q4', 'Q-DEC'), Period('2009Q1', 'Q-DEC'), Period('2009Q2', 'Q-DEC'), Period('2009Q3', 'Q-DEC'), Period('2009Q4', 'Q-DEC'), Period('2010Q1', 'Q-DEC'), Period('2010Q2', 'Q-DEC'), Period('2010Q3', 'Q-DEC'), Period('2010Q4', 'Q-DEC'), Period('2011Q1', 'Q-DEC'), Period('2011Q2', 'Q-DEC'), Period('2011Q3', 'Q-DEC'), Period('2011Q4', 'Q-DEC'), Period('2012Q1', 'Q-DEC'), Period('2012Q2', 'Q-DEC'), Period('2012Q3', 'Q-DEC'), Period('2012Q4', 'Q-DEC'), Period('2013Q1', 'Q-DEC'), Period('2013Q2', 'Q-DEC'), Period('2013Q3', 'Q-DEC'), Period('2013Q4', 'Q-DEC'), Period('2014Q1', 'Q-DEC'), Period('2014Q2', 'Q-DEC'), Period('2014Q3', 'Q-DEC'), Period('2014Q4', 'Q-DEC'), Period('2015Q1', 'Q-DEC'), Period('2015Q2', 'Q-DEC'), Period('2015Q3', 'Q-DEC'), Period('2015Q4', 'Q-DEC'), Period('2016Q1', 'Q-DEC'), Period('2016Q2', 'Q-DEC'), Period('2016Q3', 'Q-DEC'), Period('2016Q4', 'Q-DEC'), Period('2017Q1', 'Q-DEC'), Period('2017Q2', 'Q-DEC'), Period('2017Q3', 'Q-DEC'), Period('2017Q4', 'Q-DEC'), Period('2018Q1', 'Q-DEC'), Period('2018Q2', 'Q-DEC'), Period('2018Q3', 'Q-DEC'), Period('2018Q4', 'Q-DEC'), Period('2019Q1', 'Q-DEC'), Period('2019Q2', 'Q-DEC'), Period('2019Q3', 'Q-DEC'), Period('2019Q4', 'Q-DEC'), Period('2020Q1', 'Q-DEC'), Period('2020Q2', 'Q-DEC'), Period('2020Q3', 'Q-DEC'), Period('2020Q4', 'Q-DEC'), Period('2021Q1', 'Q-DEC'), Period('2021Q2', 'Q-DEC'), Period('2021Q3', 'Q-DEC'), Period('2021Q4', 'Q-DEC'), Period('2022Q1', 'Q-DEC'), Period('2022Q2', 'Q-DEC'), Period('2022Q3', 'Q-DEC'), Period('2022Q4', 'Q-DEC'), Period('2023Q1', 'Q-DEC'), Period('2023Q2', 'Q-DEC'), Period('2023Q3', 'Q-DEC'), Period('2023Q4', 'Q-DEC'), Period('2024Q1', 'Q-DEC'), Period('2024Q2', 'Q-DEC'), Period('2024Q3', 'Q-DEC'), Period('2024Q4', 'Q-DEC')]\n"
     ]
    }
   ],
   "source": [
    "returns = fx_data.pct_change().dropna()\n",
    "\n",
    "log_returns = np.log(1 + returns)\n",
    "\n",
    "\n",
    "log_returns.index = pd.to_datetime(log_returns.index)\n",
    "log_returns['Quarter'] = log_returns.index.to_period('Q')\n",
    "\n",
    "# Group by quarter\n",
    "quarterly_groups = log_returns.groupby('Quarter')\n",
    "\n",
    "print(quarterly_groups.ngroups)\n",
    "print(list(quarterly_groups.groups.keys()))\n",
    "\n",
    "\n",
    "quarterly_standardized = {}\n",
    "\n",
    "for q, data in quarterly_groups:\n",
    "    data = data.drop(columns='Quarter')  # drop helper\n",
    "    # Standardize using quarterly mean and std\n",
    "    standardized = (data - data.mean()) / data.std()\n",
    "    quarterly_standardized[q] = standardized\n"
   ]
  },
  {
   "cell_type": "code",
   "execution_count": 241,
   "metadata": {},
   "outputs": [
    {
     "name": "stdout",
     "output_type": "stream",
     "text": [
      "2007Q1: 64 days\n",
      "2007Q2: 65 days\n",
      "2007Q3: 65 days\n",
      "2007Q4: 66 days\n",
      "2008Q1: 65 days\n",
      "2008Q2: 65 days\n",
      "2008Q3: 66 days\n",
      "2008Q4: 66 days\n",
      "2009Q1: 64 days\n",
      "2009Q2: 65 days\n",
      "2009Q3: 66 days\n",
      "2009Q4: 66 days\n",
      "2010Q1: 64 days\n",
      "2010Q2: 65 days\n",
      "2010Q3: 66 days\n",
      "2010Q4: 66 days\n",
      "2011Q1: 64 days\n",
      "2011Q2: 65 days\n",
      "2011Q3: 66 days\n",
      "2011Q4: 65 days\n",
      "2012Q1: 65 days\n",
      "2012Q2: 65 days\n",
      "2012Q3: 65 days\n",
      "2012Q4: 66 days\n",
      "2013Q1: 64 days\n",
      "2013Q2: 65 days\n",
      "2013Q3: 66 days\n",
      "2013Q4: 65 days\n",
      "2014Q1: 64 days\n",
      "2014Q2: 65 days\n",
      "2014Q3: 66 days\n",
      "2014Q4: 66 days\n",
      "2015Q1: 64 days\n",
      "2015Q2: 65 days\n",
      "2015Q3: 66 days\n",
      "2015Q4: 66 days\n",
      "2016Q1: 65 days\n",
      "2016Q2: 65 days\n",
      "2016Q3: 66 days\n",
      "2016Q4: 65 days\n",
      "2017Q1: 65 days\n",
      "2017Q2: 65 days\n",
      "2017Q3: 64 days\n",
      "2017Q4: 64 days\n",
      "2018Q1: 65 days\n",
      "2018Q2: 65 days\n",
      "2018Q3: 65 days\n",
      "2018Q4: 66 days\n",
      "2019Q1: 64 days\n",
      "2019Q2: 64 days\n",
      "2019Q3: 66 days\n",
      "2019Q4: 66 days\n",
      "2020Q1: 65 days\n",
      "2020Q2: 65 days\n",
      "2020Q3: 66 days\n",
      "2020Q4: 66 days\n",
      "2021Q1: 64 days\n",
      "2021Q2: 65 days\n",
      "2021Q3: 66 days\n",
      "2021Q4: 66 days\n",
      "2022Q1: 64 days\n",
      "2022Q2: 65 days\n",
      "2022Q3: 66 days\n",
      "2022Q4: 65 days\n",
      "2023Q1: 65 days\n",
      "2023Q2: 65 days\n",
      "2023Q3: 65 days\n",
      "2023Q4: 65 days\n",
      "2024Q1: 65 days\n",
      "2024Q2: 65 days\n",
      "2024Q3: 66 days\n",
      "2024Q4: 64 days\n"
     ]
    }
   ],
   "source": [
    "for quarter, df in quarterly_groups:\n",
    "    print(f\"{quarter}: {len(df)} days\")\n"
   ]
  },
  {
   "cell_type": "code",
   "execution_count": 242,
   "metadata": {},
   "outputs": [
    {
     "name": "stdout",
     "output_type": "stream",
     "text": [
      "Done! Stored PCA results for each quarter (standardized correctly).\n"
     ]
    }
   ],
   "source": [
    "quarterly_pca_results = {}\n",
    "\n",
    "for q, data in quarterly_standardized.items():  # <-- use standardized data\n",
    "    C = np.cov(data.T)  # covariance of standardized data\n",
    "    \n",
    "    eigvals, eigvecs = np.linalg.eig(C)\n",
    "    idx = np.argsort(eigvals)[::-1]\n",
    "    eigvals = eigvals[idx]\n",
    "    eigvecs = eigvecs[:, idx]\n",
    "    \n",
    "    quarterly_pca_results[q] = {\n",
    "        'eigvals': eigvals,\n",
    "        'eigvecs': eigvecs,\n",
    "        'explained_variance_ratio': eigvals / np.sum(eigvals)\n",
    "    }\n",
    "\n",
    "print(\"Done! Stored PCA results for each quarter (standardized correctly).\")\n"
   ]
  },
  {
   "cell_type": "code",
   "execution_count": 243,
   "metadata": {},
   "outputs": [
    {
     "data": {
      "text/html": [
       "<div>\n",
       "<style scoped>\n",
       "    .dataframe tbody tr th:only-of-type {\n",
       "        vertical-align: middle;\n",
       "    }\n",
       "\n",
       "    .dataframe tbody tr th {\n",
       "        vertical-align: top;\n",
       "    }\n",
       "\n",
       "    .dataframe thead th {\n",
       "        text-align: right;\n",
       "    }\n",
       "</style>\n",
       "<table border=\"1\" class=\"dataframe\">\n",
       "  <thead>\n",
       "    <tr style=\"text-align: right;\">\n",
       "      <th></th>\n",
       "      <th>PC1</th>\n",
       "      <th>PC2</th>\n",
       "      <th>PC3</th>\n",
       "      <th>PC4</th>\n",
       "      <th>PC5</th>\n",
       "    </tr>\n",
       "  </thead>\n",
       "  <tbody>\n",
       "    <tr>\n",
       "      <th>EURUSD=X</th>\n",
       "      <td>-0.299351</td>\n",
       "      <td>0.237000</td>\n",
       "      <td>0.815132</td>\n",
       "      <td>0.399423</td>\n",
       "      <td>0.173899</td>\n",
       "    </tr>\n",
       "    <tr>\n",
       "      <th>GBPUSD=X</th>\n",
       "      <td>0.584566</td>\n",
       "      <td>0.352271</td>\n",
       "      <td>0.218229</td>\n",
       "      <td>0.085151</td>\n",
       "      <td>-0.692325</td>\n",
       "    </tr>\n",
       "    <tr>\n",
       "      <th>JPYUSD=X</th>\n",
       "      <td>0.540125</td>\n",
       "      <td>0.081564</td>\n",
       "      <td>0.331856</td>\n",
       "      <td>-0.553372</td>\n",
       "      <td>0.534101</td>\n",
       "    </tr>\n",
       "    <tr>\n",
       "      <th>RUBUSD=X</th>\n",
       "      <td>-0.139650</td>\n",
       "      <td>0.895411</td>\n",
       "      <td>-0.358264</td>\n",
       "      <td>-0.002544</td>\n",
       "      <td>0.224450</td>\n",
       "    </tr>\n",
       "    <tr>\n",
       "      <th>CNYUSD=X</th>\n",
       "      <td>0.507381</td>\n",
       "      <td>-0.106409</td>\n",
       "      <td>-0.222384</td>\n",
       "      <td>0.725936</td>\n",
       "      <td>0.393451</td>\n",
       "    </tr>\n",
       "  </tbody>\n",
       "</table>\n",
       "</div>"
      ],
      "text/plain": [
       "               PC1       PC2       PC3       PC4       PC5\n",
       "EURUSD=X -0.299351  0.237000  0.815132  0.399423  0.173899\n",
       "GBPUSD=X  0.584566  0.352271  0.218229  0.085151 -0.692325\n",
       "JPYUSD=X  0.540125  0.081564  0.331856 -0.553372  0.534101\n",
       "RUBUSD=X -0.139650  0.895411 -0.358264 -0.002544  0.224450\n",
       "CNYUSD=X  0.507381 -0.106409 -0.222384  0.725936  0.393451"
      ]
     },
     "execution_count": 243,
     "metadata": {},
     "output_type": "execute_result"
    }
   ],
   "source": [
    "pd.DataFrame(\n",
    "    quarterly_pca_results[list(quarterly_pca_results.keys())[11]]['eigvecs'],\n",
    "    index=tickers,\n",
    "    columns=[f\"PC{i+1}\" for i in range(len(tickers))]\n",
    ")\n"
   ]
  },
  {
   "cell_type": "code",
   "execution_count": 244,
   "metadata": {},
   "outputs": [],
   "source": [
    "quarterly_component_returns = {}\n",
    "\n",
    "for q, data in quarterly_groups:\n",
    "    data = data.drop(columns='Quarter')\n",
    "    eigvecs = quarterly_pca_results[q]['eigvecs']\n",
    "    \n",
    "    # Principal component time series (for that quarter)\n",
    "    Z_q = data.values @ eigvecs\n",
    "    Z_q = pd.DataFrame(Z_q, index=data.index, columns=[f'PC{i+1}' for i in range(eigvecs.shape[1])])\n",
    "    \n",
    "    quarterly_component_returns[q] = Z_q\n"
   ]
  },
  {
   "cell_type": "code",
   "execution_count": 245,
   "metadata": {},
   "outputs": [
    {
     "name": "stdout",
     "output_type": "stream",
     "text": [
      "             PC1       PC2       PC3           PC4       PC5\n",
      "2007Q1 -0.000183  0.000119  0.000224  1.529283e-04 -0.000028\n",
      "2007Q2  0.000097  0.000004 -0.000687 -5.001946e-04 -0.000213\n",
      "2007Q3 -0.000866  0.000721 -0.000953  1.366433e-04  0.000211\n",
      "2007Q4 -0.000129 -0.000675  0.000056  4.598271e-04  0.000111\n",
      "2008Q1 -0.001794 -0.001103 -0.000853  3.240034e-07 -0.000048\n",
      "...          ...       ...       ...           ...       ...\n",
      "2023Q4 -0.001520  0.000523 -0.000951 -4.171287e-04 -0.000013\n",
      "2024Q1 -0.000903  0.000190 -0.000715 -6.176256e-04 -0.000241\n",
      "2024Q2 -0.000354  0.001308 -0.000447  6.974630e-04 -0.000002\n",
      "2024Q3  0.001561 -0.001274  0.001502  7.353807e-04  0.000483\n",
      "2024Q4  0.002115 -0.000777  0.000693 -5.059668e-04  0.000163\n",
      "\n",
      "[72 rows x 5 columns]\n"
     ]
    }
   ],
   "source": [
    "quarterly_mean_returns = {\n",
    "    q: Z_q.mean() for q, Z_q in quarterly_component_returns.items()\n",
    "}\n",
    "quarterly_mean_returns = pd.DataFrame(quarterly_mean_returns).T\n",
    "print(quarterly_mean_returns)\n"
   ]
  },
  {
   "cell_type": "code",
   "execution_count": 246,
   "metadata": {},
   "outputs": [
    {
     "name": "stdout",
     "output_type": "stream",
     "text": [
      "2007Q1    PC3\n",
      "2007Q2    PC1\n",
      "2007Q3    PC2\n",
      "2007Q4    PC4\n",
      "2008Q1    PC4\n",
      "         ... \n",
      "2023Q4    PC2\n",
      "2024Q1    PC2\n",
      "2024Q2    PC2\n",
      "2024Q3    PC1\n",
      "2024Q4    PC1\n",
      "Freq: Q-DEC, Length: 72, dtype: object\n"
     ]
    }
   ],
   "source": [
    "best_pc_per_quarter = quarterly_mean_returns.idxmax(axis=1)\n",
    "print(best_pc_per_quarter)\n"
   ]
  },
  {
   "cell_type": "code",
   "execution_count": 247,
   "metadata": {},
   "outputs": [],
   "source": [
    "best_weights_per_quarter = {}\n",
    "\n",
    "for q in best_pc_per_quarter.index:\n",
    "    best_pc = best_pc_per_quarter[q]        # e.g., 'PC2'\n",
    "    idx = int(best_pc.replace('PC', '')) - 1 # convert to column index\n",
    "    eigvecs = quarterly_pca_results[q]['eigvecs']\n",
    "    weights = eigvecs[:, idx]\n",
    "    best_weights_per_quarter[q] = weights\n"
   ]
  },
  {
   "cell_type": "code",
   "execution_count": 248,
   "metadata": {},
   "outputs": [
    {
     "name": "stdout",
     "output_type": "stream",
     "text": [
      "            2007Q1    2007Q2    2007Q3    2007Q4    2008Q1    2008Q2  \\\n",
      "EURUSD=X  0.785554  0.108700 -0.687867  0.002055 -0.178954 -0.111853   \n",
      "GBPUSD=X -0.022192  0.539756  0.057004  0.396947 -0.778833  0.378182   \n",
      "JPYUSD=X -0.093885  0.444484 -0.121549 -0.812675  0.215579 -0.729244   \n",
      "RUBUSD=X  0.611080  0.463566  0.622452 -0.255326  0.503484 -0.372176   \n",
      "CNYUSD=X -0.013396  0.533281  0.348379  0.341756  0.247838  0.417318   \n",
      "\n",
      "            2008Q3    2008Q4    2009Q1    2009Q2  ...    2022Q3    2022Q4  \\\n",
      "EURUSD=X  0.133119 -0.235909  0.726387 -0.179880  ... -0.420298 -0.896312   \n",
      "GBPUSD=X -0.574172 -0.608206 -0.255992 -0.767888  ... -0.550988  0.209337   \n",
      "JPYUSD=X -0.531866 -0.413050 -0.193466  0.536702  ... -0.573875  0.384066   \n",
      "RUBUSD=X -0.254932  0.566854 -0.576509  0.167183  ... -0.436052  0.050846   \n",
      "CNYUSD=X -0.552026 -0.287226  0.192455  0.248982  ...  0.016963  0.052064   \n",
      "\n",
      "            2023Q1    2023Q2    2023Q3    2023Q4    2024Q1    2024Q2  \\\n",
      "EURUSD=X  0.466452 -0.584393  0.300489 -0.726626  0.682677  0.193369   \n",
      "GBPUSD=X  0.536672  0.279057 -0.116538  0.051853 -0.173359 -0.149133   \n",
      "JPYUSD=X  0.537455  0.487594 -0.187378  0.019058 -0.124649 -0.111340   \n",
      "RUBUSD=X  0.438628 -0.585476  0.153308 -0.159661  0.170622 -0.075186   \n",
      "CNYUSD=X -0.114694 -0.009009 -0.915157  0.665936 -0.677680  0.960374   \n",
      "\n",
      "            2024Q3    2024Q4  \n",
      "EURUSD=X  0.481152 -0.420780  \n",
      "GBPUSD=X  0.574428 -0.574275  \n",
      "JPYUSD=X  0.481480 -0.548743  \n",
      "RUBUSD=X  0.426614 -0.437838  \n",
      "CNYUSD=X  0.157170  0.018203  \n",
      "\n",
      "[5 rows x 72 columns]\n"
     ]
    }
   ],
   "source": [
    "weights_df = pd.DataFrame(best_weights_per_quarter, index=tickers)\n",
    "print(weights_df)\n"
   ]
  },
  {
   "cell_type": "code",
   "execution_count": 249,
   "metadata": {},
   "outputs": [
    {
     "name": "stdout",
     "output_type": "stream",
     "text": [
      "2007Q1  2007Q2    0.307813\n",
      "2007Q2  2007Q3    0.376302\n",
      "2007Q3  2007Q4    0.080126\n",
      "2007Q4  2008Q1   -0.528571\n",
      "2008Q1  2008Q2   -0.515691\n",
      "                    ...   \n",
      "2023Q3  2023Q4   -0.861870\n",
      "2023Q4  2024Q1   -0.985949\n",
      "2024Q1  2024Q2   -0.491914\n",
      "2024Q2  2024Q3    0.072632\n",
      "2024Q3  2024Q4   -0.980475\n",
      "Length: 71, dtype: float64\n"
     ]
    }
   ],
   "source": [
    "from sklearn.metrics.pairwise import cosine_similarity\n",
    "\n",
    "quarters = list(best_weights_per_quarter.keys())\n",
    "similarity_results = {}\n",
    "\n",
    "for i in range(len(quarters) - 1):\n",
    "    q1, q2 = quarters[i], quarters[i+1]\n",
    "    w1 = best_weights_per_quarter[q1].reshape(1, -1)\n",
    "    w2 = best_weights_per_quarter[q2].reshape(1, -1)\n",
    "    sim = cosine_similarity(w1, w2)[0][0]\n",
    "    similarity_results[(q1, q2)] = sim\n",
    "\n",
    "print(pd.Series(similarity_results))\n"
   ]
  },
  {
   "cell_type": "code",
   "execution_count": 250,
   "metadata": {},
   "outputs": [
    {
     "data": {
      "text/plain": [
       "2007Q1 → 2007Q2    0.307813\n",
       "2007Q2 → 2007Q3    0.376302\n",
       "2007Q3 → 2007Q4    0.080126\n",
       "2007Q4 → 2008Q1   -0.528571\n",
       "2008Q1 → 2008Q2   -0.515691\n",
       "                     ...   \n",
       "2023Q3 → 2023Q4   -0.861870\n",
       "2023Q4 → 2024Q1   -0.985949\n",
       "2024Q1 → 2024Q2   -0.491914\n",
       "2024Q2 → 2024Q3    0.072632\n",
       "2024Q3 → 2024Q4   -0.980475\n",
       "Length: 71, dtype: float64"
      ]
     },
     "execution_count": 250,
     "metadata": {},
     "output_type": "execute_result"
    }
   ],
   "source": [
    "import pandas as pd\n",
    "\n",
    "sim_series = pd.Series(similarity_results)\n",
    "\n",
    "# Convert Period objects to strings before joining\n",
    "sim_series.index = [' → '.join([str(p) for p in pair]) for pair in sim_series.index]\n",
    "\n",
    "sim_series\n"
   ]
  },
  {
   "cell_type": "code",
   "execution_count": 251,
   "metadata": {},
   "outputs": [
    {
     "data": {
      "image/png": "[encoded data removed]",
      "text/plain": [
       "<Figure size 1200x600 with 1 Axes>"
      ]
     },
     "metadata": {},
     "output_type": "display_data"
    }
   ],
   "source": [
    "import matplotlib.pyplot as plt\n",
    "\n",
    "plt.figure(figsize=(12,6))\n",
    "colors = ['green' if val > 0 else 'red' for val in sim_series]  # green = positive similarity, red = negative\n",
    "\n",
    "sim_series.plot(kind='bar', color=colors)\n",
    "plt.title(\"Cosine Similarity of Top-Return PCA Weights Across Consecutive Quarters\")\n",
    "plt.ylabel(\"Cosine Similarity\")\n",
    "plt.xlabel(\"Quarter Pair\")\n",
    "plt.ylim(-1.1, 1.1)\n",
    "plt.axhline(0, color='black', linewidth=0.8)  # horizontal line at 0\n",
    "plt.xticks(rotation=45, ha='right')\n",
    "plt.show()\n"
   ]
  },
  {
   "cell_type": "code",
   "execution_count": null,
   "metadata": {},
   "outputs": [],
   "source": []
  },
  {
   "cell_type": "code",
   "execution_count": null,
   "metadata": {},
   "outputs": [],
   "source": []
  },
  {
   "cell_type": "code",
   "execution_count": null,
   "metadata": {},
   "outputs": [],
   "source": []
  }
 ],
 "metadata": {
  "anaconda-cloud": {},
  "coursera": {
   "course_slug": "machine-learning-in-finance"
  },
  "kernelspec": {
   "display_name": "Python 3",
   "language": "python",
   "name": "python3"
  },
  "language_info": {
   "codemirror_mode": {
    "name": "ipython",
    "version": 3
   },
   "file_extension": ".py",
   "mimetype": "text/x-python",
   "name": "python",
   "nbconvert_exporter": "python",
   "pygments_lexer": "ipython3",
   "version": "3.12.9"
  }
 },
 "nbformat": 4,
 "nbformat_minor": 1
}
