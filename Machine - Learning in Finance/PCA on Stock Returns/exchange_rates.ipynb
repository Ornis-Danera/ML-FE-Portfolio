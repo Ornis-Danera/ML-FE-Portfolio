{
 "cells": [
  {
   "cell_type": "code",
   "execution_count": 1,
   "id": "3124dee9",
   "metadata": {},
   "outputs": [
    {
     "name": "stderr",
     "output_type": "stream",
     "text": [
      "C:\\Users\\USER\\AppData\\Local\\Temp\\ipykernel_14320\\1772335851.py:7: FutureWarning: YF.download() has changed argument auto_adjust default to True\n",
      "  data = yf.download(ticker, start=\"2000-01-01\", end=\"2025-01-01\")\n",
      "[*********************100%***********************]  1 of 1 completed"
     ]
    },
    {
     "name": "stdout",
     "output_type": "stream",
     "text": [
      "Price         Close        High         Low        Open   Volume\n",
      "Ticker     USDNGN=X    USDNGN=X    USDNGN=X    USDNGN=X USDNGN=X\n",
      "Date                                                            \n",
      "2003-12-01    140.0  140.000000  140.000000  140.000000        0\n",
      "2003-12-02    140.0  138.479996  138.479996  138.479996        0\n",
      "2003-12-03    140.0  135.850006  135.850006  135.850006        0\n",
      "2003-12-04    140.0  140.000000  135.880005  135.880005        0\n",
      "2003-12-05    138.5  138.500000  135.820007  135.820007        0\n"
     ]
    },
    {
     "name": "stderr",
     "output_type": "stream",
     "text": [
      "\n"
     ]
    }
   ],
   "source": [
    "import yfinance as yf\n",
    "\n",
    "# Define the ticker symbol\n",
    "ticker = 'USDNGN=X'\n",
    "\n",
    "# Download historical data\n",
    "data = yf.download(ticker, start=\"2000-01-01\", end=\"2025-01-01\")\n",
    "\n",
    "# Display the first few rows\n",
    "print(data.head())\n"
   ]
  },
  {
   "cell_type": "code",
   "execution_count": null,
   "id": "f3e40ead",
   "metadata": {},
   "outputs": [],
   "source": []
  }
 ],
 "metadata": {
  "kernelspec": {
   "display_name": "Python 3",
   "language": "python",
   "name": "python3"
  },
  "language_info": {
   "codemirror_mode": {
    "name": "ipython",
    "version": 3
   },
   "file_extension": ".py",
   "mimetype": "text/x-python",
   "name": "python",
   "nbconvert_exporter": "python",
   "pygments_lexer": "ipython3",
   "version": "3.12.9"
  }
 },
 "nbformat": 4,
 "nbformat_minor": 5
}
