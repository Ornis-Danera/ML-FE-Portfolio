{
 "cells": [
  {
   "cell_type": "markdown",
   "id": "b5abeaaf",
   "metadata": {},
   "source": []
  },
  {
   "cell_type": "markdown",
   "id": "e061628b",
   "metadata": {},
   "source": [
    "# Data-driven Finance: Unobservable Factors & PCA\n",
    "\n",
    "In classical finance, we often assume certain factors drive stock returns. Here, we relax this assumption and let **data itself discover the factors**.  \n",
    "\n",
    "We are entering the realm of **unsupervised learning**, where the goal is to find structure in data without pre-labeled outcomes.  \n",
    "\n",
    "The first step is to collect daily stock prices for a set of stocks (here: Dow Jones tickers) and prepare the data for analysis.\n",
    "\n"
   ]
  },
  {
   "cell_type": "code",
   "execution_count": 1,
   "id": "dd46e1a9",
   "metadata": {},
   "outputs": [
    {
     "name": "stderr",
     "output_type": "stream",
     "text": [
      "C:\\Users\\USER\\AppData\\Local\\Temp\\ipykernel_13320\\513063869.py:9: FutureWarning: YF.download() has changed argument auto_adjust default to True\n",
      "  data_full = yf.download(tickers, start=\"2020-01-01\", end=\"2025-01-01\")\n",
      "[*********************100%***********************]  10 of 10 completed"
     ]
    },
    {
     "name": "stdout",
     "output_type": "stream",
     "text": [
      "Ticker           AAPL       AMZN      GOOGL         JPM        MSFT      NVDA  \\\n",
      "Date                                                                            \n",
      "2020-01-02  72.538506  94.900497  67.965233  119.573387  152.791122  5.971411   \n",
      "2020-01-03  71.833282  93.748497  67.609680  117.995430  150.888596  5.875832   \n",
      "2020-01-06  72.405685  95.143997  69.411758  117.901596  151.278656  5.900472   \n",
      "2020-01-07  72.065147  95.343002  69.277679  115.897194  149.899307  5.971910   \n",
      "2020-01-08  73.224396  94.598503  69.770775  116.801308  152.286957  5.983109   \n",
      "\n",
      "Ticker           TSLA         UNH           V        XOM  \n",
      "Date                                                      \n",
      "2020-01-02  28.684000  267.026367  183.549088  54.131081  \n",
      "2020-01-03  29.534000  264.324158  182.089310  53.695881  \n",
      "2020-01-06  30.102667  266.159119  181.695557  54.108170  \n",
      "2020-01-07  31.270666  264.552399  181.215332  53.665344  \n",
      "2020-01-08  32.809334  270.130249  184.317383  52.856064  \n"
     ]
    },
    {
     "name": "stderr",
     "output_type": "stream",
     "text": [
      "\n"
     ]
    }
   ],
   "source": [
    "import yfinance as yf\n",
    "import pandas as pd\n",
    "import numpy as np\n",
    "\n",
    "\n",
    "tickers = ['AAPL', 'MSFT', 'JPM', 'GOOGL', 'AMZN', 'NVDA', 'TSLA', 'XOM', 'UNH', 'V']\n",
    "\n",
    "# Download all data\n",
    "data_full = yf.download(tickers, start=\"2020-01-01\", end=\"2025-01-01\")\n",
    "\n",
    "# Extract only the closing prices for each ticker\n",
    "data = data_full['Close']\n",
    "\n",
    "# Display the first few rows\n",
    "print(data.head())\n"
   ]
  },
  {
   "cell_type": "markdown",
   "id": "6f08e1c2",
   "metadata": {},
   "source": [
    "# Compute Daily Log Returns and Standardize\n",
    "\n",
    "Let $P_t$ be the price at time $t$. Daily **returns** are:\n",
    "\n",
    "$$\n",
    "R_t = \\frac{P_t - P_{t-1}}{P_{t-1}}\n",
    "$$\n",
    "\n",
    "We then compute **log returns** to handle compounding:\n",
    "\n",
    "$$\n",
    "r_t = \\log(1 + R_t)\n",
    "$$\n",
    "\n",
    "Finally, we **standardize** the returns to zero mean and unit variance:\n",
    "\n",
    "$$\n",
    "X = \\frac{r_t - \\bar{r}}{\\sigma_r}\n",
    "$$\n",
    "\n",
    "This gives us the **data matrix $X$** used for PCA.\n",
    "\n"
   ]
  },
  {
   "cell_type": "markdown",
   "id": "74b2fdd0",
   "metadata": {},
   "source": []
  },
  {
   "cell_type": "code",
   "execution_count": 2,
   "id": "069ff0b5",
   "metadata": {},
   "outputs": [],
   "source": [
    "returns = data.pct_change().dropna()\n",
    "\n",
    "log_returns = np.log(1 + returns)\n"
   ]
  },
  {
   "cell_type": "code",
   "execution_count": 6,
   "id": "8dd3b7e8",
   "metadata": {},
   "outputs": [
    {
     "name": "stdout",
     "output_type": "stream",
     "text": [
      "Ticker          AAPL      AMZN     GOOGL       JPM      MSFT      NVDA  \\\n",
      "Date                                                                     \n",
      "2020-01-03 -0.539238 -0.568605 -0.295657 -0.676152 -0.693416 -0.552081   \n",
      "2020-01-06  0.348745  0.622869  1.244276 -0.065173  0.092513  0.050673   \n",
      "2020-01-07 -0.285713  0.062809 -0.134021 -0.865108 -0.518137  0.283520   \n",
      "2020-01-08  0.751008 -0.375507  0.306527  0.353906  0.780113 -0.017882   \n",
      "2020-01-09  1.004795  0.181927  0.470081  0.152043  0.603938  0.250541   \n",
      "\n",
      "Ticker          TSLA       UNH         V       XOM  \n",
      "Date                                                \n",
      "2020-01-03  0.642066 -0.564564 -0.479498 -0.396846  \n",
      "2020-01-06  0.402025  0.340039 -0.147786  0.328872  \n",
      "2020-01-07  0.852087 -0.346678 -0.175243 -0.403563  \n",
      "2020-01-08  1.088214  1.078299  0.942967 -0.725646  \n",
      "2020-01-09 -0.575597 -0.327545  0.369190  0.327832  \n"
     ]
    }
   ],
   "source": [
    "X = (log_returns - log_returns.mean()) / log_returns.std()\n",
    "print(X.head())"
   ]
  },
  {
   "cell_type": "markdown",
   "id": "6f4e8c6a",
   "metadata": {},
   "source": [
    "# Covariance Matrix of Standardized Returns\n",
    "\n",
    "Once we have the standardized returns \\(X\\), we compute the **covariance matrix** \\(C\\):\n",
    "\n",
    "$$\n",
    "C = \\frac{X^T X}{N}\n",
    "$$\n",
    "\n",
    "Where:\n",
    "\n",
    "- \\(X\\) is the standardized returns matrix (size \\(N \\times P\\))\n",
    "- \\(N\\) is the number of observations (days)\n",
    "- \\(C\\) is a \\(P \\times P\\) matrix representing **pairwise correlations** between stocks\n",
    "\n",
    "The covariance matrix captures the linear relationships between stocks. A covariance of 0 means no linear correlation, while positive/negative values indicate positive/negative co-movement.\n",
    "\n",
    "**Note:** Since \\(X\\) is standardized, the covariance matrix is equivalent to the **correlation matrix**.\n",
    "\n",
    "This matrix is not diagonal, meaning the stock returns are **correlated**.\n"
   ]
  },
  {
   "cell_type": "code",
   "execution_count": 4,
   "id": "932f608b",
   "metadata": {},
   "outputs": [
    {
     "name": "stdout",
     "output_type": "stream",
     "text": [
      "           AAPL      MSFT       JPM     GOOGL      AMZN      NVDA      TSLA  \\\n",
      "AAPL   1.000000  0.594779  0.652854  0.414321  0.750913  0.614656  0.492477   \n",
      "MSFT   0.594779  1.000000  0.649973  0.269223  0.680171  0.586771  0.436566   \n",
      "JPM    0.652854  0.649973  1.000000  0.406429  0.747925  0.600683  0.406230   \n",
      "GOOGL  0.414321  0.269223  0.406429  1.000000  0.424330  0.332255  0.282216   \n",
      "AMZN   0.750913  0.680171  0.747925  0.424330  1.000000  0.688373  0.456088   \n",
      "NVDA   0.614656  0.586771  0.600683  0.332255  0.688373  1.000000  0.476880   \n",
      "TSLA   0.492477  0.436566  0.406230  0.282216  0.456088  0.476880  1.000000   \n",
      "XOM    0.422114  0.213523  0.347109  0.457495  0.435819  0.292680  0.198554   \n",
      "UNH    0.585935  0.409001  0.548355  0.618969  0.609752  0.480090  0.361437   \n",
      "V      0.288141  0.135746  0.263653  0.572316  0.248586  0.187483  0.152204   \n",
      "\n",
      "            XOM       UNH         V  \n",
      "AAPL   0.422114  0.585935  0.288141  \n",
      "MSFT   0.213523  0.409001  0.135746  \n",
      "JPM    0.347109  0.548355  0.263653  \n",
      "GOOGL  0.457495  0.618969  0.572316  \n",
      "AMZN   0.435819  0.609752  0.248586  \n",
      "NVDA   0.292680  0.480090  0.187483  \n",
      "TSLA   0.198554  0.361437  0.152204  \n",
      "XOM    1.000000  0.500144  0.368920  \n",
      "UNH    0.500144  1.000000  0.455864  \n",
      "V      0.368920  0.455864  1.000000  \n"
     ]
    }
   ],
   "source": [
    "C = np.cov(X.T)\n",
    "\n",
    "# Option 1: Just print the covariance matrix\n",
    "# print(C)\n",
    "\n",
    "# Option 2: Convert to DataFrame for nicer display\n",
    "C_df = pd.DataFrame(C, index=tickers, columns=tickers)\n",
    "print(C_df)\n"
   ]
  },
  {
   "cell_type": "markdown",
   "id": "4097f498",
   "metadata": {},
   "source": []
  },
  {
   "cell_type": "markdown",
   "id": "66d25f9f",
   "metadata": {},
   "source": [
    "## Step 3: Linear Transformation with PCA\n",
    "\n",
    "We transform our standardized returns \\(X\\) into **uncorrelated components**:\n",
    "\n",
    "$$\n",
    "Z = X V\n",
    "$$\n",
    "\n",
    "Where:\n",
    "\n",
    "- \\(V \\in \\mathbb{R}^{P \\times P}\\) is an **orthogonal matrix** whose columns are the eigenvectors of the covariance matrix \\(C\\).\n",
    "- \\(Z \\in \\mathbb{R}^{N \\times P}\\) is the **encoded data** (principal components).\n",
    "\n",
    "**Key points:**\n",
    "\n",
    "1. Using all \\(P\\) components (\\(K = P\\)):\n",
    "\n",
    "$$\n",
    "\\text{Cov}(Z) = V^\\top C V = \\Lambda\n",
    "$$\n",
    "\n",
    "where \\(\\Lambda\\) is diagonal. This means the columns of \\(Z\\) are **uncorrelated**.\n",
    "\n",
    "2. Each column of \\(V\\) corresponds to the **weights of an eigen-portfolio**, simplifying correlated stock analysis.\n",
    "\n",
    "3. In practice, `sklearn` PCA computes \\(V\\) automatically as `pca.components_.T`.\n"
   ]
  },
  {
   "cell_type": "code",
   "execution_count": 5,
   "id": "de5212d9",
   "metadata": {},
   "outputs": [
    {
     "name": "stdout",
     "output_type": "stream",
     "text": [
      "First few rows of Z (principal components):\n",
      "[[-1.35071541e+00 -4.21528095e-01  7.69828485e-01  4.38871326e-01\n",
      "   5.35842049e-02 -2.22244211e-01  2.09000534e-01  2.61734397e-01\n",
      "  -3.21674511e-01 -8.60373811e-02]\n",
      " [ 1.01499688e+00 -3.34440836e-01 -7.28811713e-02 -1.83810734e-01\n",
      "   6.48581632e-01 -5.23168278e-01 -5.86550437e-02  5.83797116e-01\n",
      "  -2.67826979e-01 -4.34639825e-01]\n",
      " [-4.91161357e-01 -9.15346494e-01  6.76668140e-01  4.86840562e-01\n",
      "   1.85056489e-01  1.69149528e-01  2.87887240e-02 -1.14374872e-01\n",
      "  -5.38625194e-01 -3.15805565e-01]\n",
      " [ 1.39359533e+00  4.46676653e-05 -1.29715198e-01  1.53544853e+00\n",
      "  -7.20468181e-01 -3.82850729e-01  4.43060469e-01  2.40673737e-01\n",
      "  -1.75711560e-03  2.43716426e-01]\n",
      " [ 9.18600083e-01 -7.59563201e-02 -4.48610793e-01 -7.70502713e-01\n",
      "  -1.07006168e-01  1.64178698e-01  7.01519786e-01  1.16302526e-02\n",
      "   4.70622840e-01 -3.15866290e-03]]\n"
     ]
    }
   ],
   "source": [
    "from sklearn.decomposition import PCA\n",
    "\n",
    "# Perform PCA on standardized returns\n",
    "pca = PCA()\n",
    "Z = pca.fit_transform(X)\n",
    "\n",
    "# Optional: view the first few rows of Z\n",
    "print(\"First few rows of Z (principal components):\")\n",
    "print(Z[:5])\n"
   ]
  },
  {
   "cell_type": "code",
   "execution_count": null,
   "id": "86d62098",
   "metadata": {},
   "outputs": [],
   "source": []
  }
 ],
 "metadata": {
  "kernelspec": {
   "display_name": "Python 3",
   "language": "python",
   "name": "python3"
  },
  "language_info": {
   "codemirror_mode": {
    "name": "ipython",
    "version": 3
   },
   "file_extension": ".py",
   "mimetype": "text/x-python",
   "name": "python",
   "nbconvert_exporter": "python",
   "pygments_lexer": "ipython3",
   "version": "3.12.9"
  }
 },
 "nbformat": 4,
 "nbformat_minor": 5
}
