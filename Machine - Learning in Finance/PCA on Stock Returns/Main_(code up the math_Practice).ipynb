{
 "cells": [
  {
   "cell_type": "markdown",
   "id": "b5abeaaf",
   "metadata": {},
   "source": []
  },
  {
   "cell_type": "markdown",
   "id": "e061628b",
   "metadata": {},
   "source": [
    "# Data-driven Finance: Unobservable Factors & PCA\n",
    "\n",
    "In classical finance, we often assume certain factors drive stock returns. Here, we relax this assumption and let **data itself discover the factors**.  \n",
    "\n",
    "We are entering the realm of **unsupervised learning**, where the goal is to find structure in data without pre-labeled outcomes.  \n",
    "\n",
    "The first step is to collect daily stock prices for a set of stocks (here: Dow Jones tickers) and prepare the data for analysis.\n",
    "\n"
   ]
  },
  {
   "cell_type": "code",
   "execution_count": 1,
   "id": "dd46e1a9",
   "metadata": {},
   "outputs": [
    {
     "name": "stderr",
     "output_type": "stream",
     "text": [
      "C:\\Users\\USER\\AppData\\Local\\Temp\\ipykernel_17452\\513063869.py:9: FutureWarning: YF.download() has changed argument auto_adjust default to True\n",
      "  data_full = yf.download(tickers, start=\"2020-01-01\", end=\"2025-01-01\")\n",
      "[*********************100%***********************]  10 of 10 completed"
     ]
    },
    {
     "name": "stdout",
     "output_type": "stream",
     "text": [
      "Ticker           AAPL       AMZN      GOOGL         JPM        MSFT      NVDA  \\\n",
      "Date                                                                            \n",
      "2020-01-02  72.538528  94.900497  67.965225  119.573364  152.791122  5.971409   \n",
      "2020-01-03  71.833282  93.748497  67.609688  117.995422  150.888580  5.875831   \n",
      "2020-01-06  72.405663  95.143997  69.411758  117.901611  151.278625  5.900473   \n",
      "2020-01-07  72.065147  95.343002  69.277687  115.897202  149.899307  5.971909   \n",
      "2020-01-08  73.224373  94.598503  69.770775  116.801323  152.286972  5.983109   \n",
      "\n",
      "Ticker           TSLA         UNH           V        XOM  \n",
      "Date                                                      \n",
      "2020-01-02  28.684000  267.026398  183.549072  54.131065  \n",
      "2020-01-03  29.534000  264.324219  182.089294  53.695881  \n",
      "2020-01-06  30.102667  266.159119  181.695526  54.108170  \n",
      "2020-01-07  31.270666  264.552338  181.215363  53.665352  \n",
      "2020-01-08  32.809334  270.130249  184.317383  52.856056  \n"
     ]
    },
    {
     "name": "stderr",
     "output_type": "stream",
     "text": [
      "\n"
     ]
    }
   ],
   "source": [
    "import yfinance as yf\n",
    "import pandas as pd\n",
    "import numpy as np\n",
    "\n",
    "\n",
    "tickers = ['AAPL', 'MSFT', 'JPM', 'GOOGL', 'AMZN', 'NVDA', 'TSLA', 'XOM', 'UNH', 'V']\n",
    "\n",
    "# Download all data\n",
    "data_full = yf.download(tickers, start=\"2020-01-01\", end=\"2025-01-01\")\n",
    "\n",
    "# Extract only the closing prices for each ticker\n",
    "data = data_full['Close']\n",
    "\n",
    "# Display the first few rows\n",
    "print(data.head())\n"
   ]
  },
  {
   "cell_type": "markdown",
   "id": "6f08e1c2",
   "metadata": {},
   "source": [
    "# Compute Daily Log Returns and Standardize\n",
    "\n",
    "Let $P_t$ be the price at time $t$. Daily **returns** are:\n",
    "\n",
    "$$\n",
    "R_t = \\frac{P_t - P_{t-1}}{P_{t-1}}\n",
    "$$\n",
    "\n",
    "We then compute **log returns** to handle compounding:\n",
    "\n",
    "$$\n",
    "r_t = \\log(1 + R_t)\n",
    "$$\n",
    "\n",
    "Finally, we **standardize** the returns to zero mean and unit variance:\n",
    "\n",
    "$$\n",
    "X = \\frac{r_t - \\bar{r}}{\\sigma_r}\n",
    "$$\n",
    "\n",
    "This gives us the **data matrix $X$** used for PCA.\n",
    "\n"
   ]
  },
  {
   "cell_type": "markdown",
   "id": "74b2fdd0",
   "metadata": {},
   "source": []
  },
  {
   "cell_type": "code",
   "execution_count": 2,
   "id": "069ff0b5",
   "metadata": {},
   "outputs": [],
   "source": [
    "returns = data.pct_change().dropna()\n",
    "\n",
    "log_returns = np.log(1 + returns)\n",
    "\n"
   ]
  },
  {
   "cell_type": "code",
   "execution_count": null,
   "id": "8dd3b7e8",
   "metadata": {},
   "outputs": [
    {
     "name": "stdout",
     "output_type": "stream",
     "text": [
      "Ticker          AAPL      AMZN     GOOGL       JPM      MSFT      NVDA  \\\n",
      "Date                                                                     \n",
      "2020-01-03 -0.539254 -0.568605 -0.295646 -0.676145 -0.693421 -0.552074   \n",
      "2020-01-06  0.348729  0.622869  1.244270 -0.065164  0.092508  0.050683   \n",
      "2020-01-07 -0.285697  0.062809 -0.134016 -0.865111 -0.518127  0.283506   \n",
      "2020-01-08  0.750992 -0.375507  0.306521  0.353909  0.780118 -0.017873   \n",
      "2020-01-09  1.004805  0.181927  0.470081  0.152053  0.603937  0.250539   \n",
      "\n",
      "Ticker          TSLA       UNH         V       XOM  \n",
      "Date                                                \n",
      "2020-01-03  0.642066 -0.564558 -0.479498 -0.396833  \n",
      "2020-01-06  0.402025  0.340027 -0.147790  0.328872  \n",
      "2020-01-07  0.852087 -0.346690 -0.175224 -0.403556  \n",
      "2020-01-08  1.088214  1.078311  0.942957 -0.725660  \n",
      "2020-01-09 -0.575597 -0.327545  0.369204  0.327835  \n"
     ]
    }
   ],
   "source": [
    "X = (log_returns - log_returns.mean()) / log_returns.std()\n",
    "print(X.head())"
   ]
  },
  {
   "cell_type": "markdown",
   "id": "6f4e8c6a",
   "metadata": {},
   "source": [
    "# Covariance Matrix of Standardized Returns\n",
    "\n",
    "Once we have the standardized returns \\(X\\), we compute the **covariance matrix** \\(C\\):\n",
    "\n",
    "$$\n",
    "C = \\frac{X^T X}{N}\n",
    "$$\n",
    "\n",
    "Where:\n",
    "\n",
    "- \\(X\\) is the standardized returns matrix (size \\(N \\times P\\))\n",
    "- \\(N\\) is the number of observations (days)\n",
    "- \\(C\\) is a \\(P \\times P\\) matrix representing **pairwise correlations** between stocks\n",
    "\n",
    "The covariance matrix captures the linear relationships between stocks. A covariance of 0 means no linear correlation, while positive/negative values indicate positive/negative co-movement.\n",
    "\n",
    "**Note:** Since \\(X\\) is standardized, the covariance matrix is equivalent to the **correlation matrix**.\n",
    "\n",
    "This matrix is not diagonal, meaning the stock returns are **correlated**.\n"
   ]
  },
  {
   "cell_type": "code",
   "execution_count": null,
   "id": "932f608b",
   "metadata": {},
   "outputs": [
    {
     "name": "stdout",
     "output_type": "stream",
     "text": [
      "           AAPL      MSFT       JPM     GOOGL      AMZN      NVDA      TSLA  \\\n",
      "AAPL   1.000000  0.594780  0.652853  0.414320  0.750913  0.614656  0.492477   \n",
      "MSFT   0.594780  1.000000  0.649973  0.269223  0.680171  0.586771  0.436566   \n",
      "JPM    0.652853  0.649973  1.000000  0.406429  0.747925  0.600683  0.406230   \n",
      "GOOGL  0.414320  0.269223  0.406429  1.000000  0.424329  0.332254  0.282216   \n",
      "AMZN   0.750913  0.680171  0.747925  0.424329  1.000000  0.688373  0.456088   \n",
      "NVDA   0.614656  0.586771  0.600683  0.332254  0.688373  1.000000  0.476880   \n",
      "TSLA   0.492477  0.436566  0.406230  0.282216  0.456088  0.476880  1.000000   \n",
      "XOM    0.422115  0.213523  0.347109  0.457494  0.435818  0.292680  0.198554   \n",
      "UNH    0.585935  0.409002  0.548355  0.618969  0.609752  0.480090  0.361438   \n",
      "V      0.288141  0.135746  0.263653  0.572316  0.248586  0.187483  0.152203   \n",
      "\n",
      "            XOM       UNH         V  \n",
      "AAPL   0.422115  0.585935  0.288141  \n",
      "MSFT   0.213523  0.409002  0.135746  \n",
      "JPM    0.347109  0.548355  0.263653  \n",
      "GOOGL  0.457494  0.618969  0.572316  \n",
      "AMZN   0.435818  0.609752  0.248586  \n",
      "NVDA   0.292680  0.480090  0.187483  \n",
      "TSLA   0.198554  0.361438  0.152203  \n",
      "XOM    1.000000  0.500144  0.368919  \n",
      "UNH    0.500144  1.000000  0.455864  \n",
      "V      0.368919  0.455864  1.000000  \n"
     ]
    }
   ],
   "source": [
    "C = np.cov(X.T)\n",
    "\n",
    "# Option 1: Just print the covariance matrix\n",
    "# print(C)\n",
    "\n",
    "# Option 2: Convert to DataFrame for nicer display\n",
    "C_df = pd.DataFrame(C, index=tickers, columns=tickers)\n",
    "print(C_df)\n"
   ]
  },
  {
   "cell_type": "markdown",
   "id": "4097f498",
   "metadata": {},
   "source": []
  },
  {
   "cell_type": "markdown",
   "id": "66d25f9f",
   "metadata": {},
   "source": [
    "## Step 3: Linear Transformation with PCA\n",
    "\n",
    "We transform our standardized returns \\(X\\) into **uncorrelated components**:\n",
    "\n",
    "$$\n",
    "Z = X V\n",
    "$$\n",
    "\n",
    "Where:\n",
    "\n",
    "- \\(V \\in \\mathbb{R}^{P \\times P}\\) is an **orthogonal matrix** whose columns are the eigenvectors of the covariance matrix \\(C\\).\n",
    "- \\(Z \\in \\mathbb{R}^{N \\times P}\\) is the **encoded data** (principal components).\n",
    "\n",
    "**Key points:**\n",
    "\n",
    "1. Using all \\(P\\) components (\\(K = P\\)):\n",
    "\n",
    "$$\n",
    "\\text{Cov}(Z) = V^\\top C V = \\Lambda\n",
    "$$\n",
    "\n",
    "where \\(\\Lambda\\) is diagonal. This means the columns of \\(Z\\) are **uncorrelated**.\n",
    "\n",
    "2. Each column of \\(V\\) corresponds to the **weights of an eigen-portfolio**, simplifying correlated stock analysis.\n",
    "\n",
    "3. In practice, `sklearn` PCA computes \\(V\\) automatically as `pca.components_.T`.\n"
   ]
  },
  {
   "cell_type": "code",
   "execution_count": 5,
   "id": "de5212d9",
   "metadata": {},
   "outputs": [
    {
     "name": "stdout",
     "output_type": "stream",
     "text": [
      "Eigenvalues (λ):\n",
      "[5.15437097 1.46216594 0.70299713 0.62666795 0.19945142 0.30988342\n",
      " 0.31663166 0.37287494 0.44281106 0.41214551]\n",
      "\n",
      "Eigenvectors (U):\n",
      "[[ 0.36889682  0.1190009  -0.07078767 -0.08281593 -0.31269849 -0.637389\n",
      "   0.07186285  0.56759897 -0.08053497 -0.00455202]\n",
      " [ 0.31876322  0.34336019 -0.05397264  0.29289352 -0.13067042  0.01834067\n",
      "   0.55039581 -0.40287558 -0.25072635 -0.38245917]\n",
      " [ 0.35852268  0.16355684 -0.18025339  0.26764537 -0.28071634  0.32032592\n",
      "  -0.70387731  0.0377444  -0.02614883 -0.24824037]\n",
      " [ 0.28374773 -0.45399241  0.19914088  0.13744464  0.00143486 -0.45027632\n",
      "  -0.15859486 -0.46851809  0.43473836 -0.13572105]\n",
      " [ 0.38577666  0.17027283 -0.21183069  0.04354857  0.86828673 -0.07304315\n",
      "  -0.07272471  0.10173396  0.01816803  0.01374451]\n",
      " [ 0.33484582  0.24920423  0.0267386   0.01837176 -0.16832759  0.05806182\n",
      "   0.00756963 -0.2783889   0.05066099  0.8443302 ]\n",
      " [ 0.26182106  0.21465699  0.74840219 -0.50595079  0.05849156  0.14051276\n",
      "  -0.09607155 -0.00629218 -0.08047668 -0.17426742]\n",
      " [ 0.25131493 -0.3576914  -0.47610509 -0.64656898 -0.08266543  0.08168253\n",
      "   0.00640016 -0.23982402 -0.30132165 -0.04809682]\n",
      " [ 0.34393408 -0.24434378 -0.03633221 -0.00830658 -0.09086955  0.486293\n",
      "   0.39330514  0.34564666  0.54804421 -0.03694959]\n",
      " [ 0.20569005 -0.55701202  0.29366403  0.37481887  0.07465282  0.1282115\n",
      "   0.04470751  0.17237135 -0.58348     0.16288239]]\n",
      "--------------------------------------------------\n"
     ]
    }
   ],
   "source": [
    "\n",
    "# 4️⃣ Eigen decomposition\n",
    "eigvals, eigvecs = np.linalg.eig(C)\n",
    "\n",
    "print(\"Eigenvalues (λ):\")\n",
    "print(eigvals)\n",
    "print(\"\\nEigenvectors (U):\")\n",
    "print(eigvecs)\n",
    "print(\"-\" * 50)\n",
    "\n"
   ]
  },
  {
   "cell_type": "code",
   "execution_count": 6,
   "id": "52ebf3c3",
   "metadata": {},
   "outputs": [
    {
     "name": "stdout",
     "output_type": "stream",
     "text": [
      "Diagonal matrix Λ (of eigenvalues):\n",
      "[[5.15437097 0.         0.         0.         0.         0.\n",
      "  0.         0.         0.         0.        ]\n",
      " [0.         1.46216594 0.         0.         0.         0.\n",
      "  0.         0.         0.         0.        ]\n",
      " [0.         0.         0.70299713 0.         0.         0.\n",
      "  0.         0.         0.         0.        ]\n",
      " [0.         0.         0.         0.62666795 0.         0.\n",
      "  0.         0.         0.         0.        ]\n",
      " [0.         0.         0.         0.         0.19945142 0.\n",
      "  0.         0.         0.         0.        ]\n",
      " [0.         0.         0.         0.         0.         0.30988342\n",
      "  0.         0.         0.         0.        ]\n",
      " [0.         0.         0.         0.         0.         0.\n",
      "  0.31663166 0.         0.         0.        ]\n",
      " [0.         0.         0.         0.         0.         0.\n",
      "  0.         0.37287494 0.         0.        ]\n",
      " [0.         0.         0.         0.         0.         0.\n",
      "  0.         0.         0.44281106 0.        ]\n",
      " [0.         0.         0.         0.         0.         0.\n",
      "  0.         0.         0.         0.41214551]]\n",
      "--------------------------------------------------\n"
     ]
    }
   ],
   "source": [
    "# 5️⃣ Construct diagonal matrix of eigenvalues\n",
    "Λ = np.diag(eigvals)\n",
    "print(\"Diagonal matrix Λ (of eigenvalues):\")\n",
    "print(Λ)\n",
    "print(\"-\" * 50)"
   ]
  },
  {
   "cell_type": "code",
   "execution_count": 7,
   "id": "86d62098",
   "metadata": {},
   "outputs": [
    {
     "name": "stdout",
     "output_type": "stream",
     "text": [
      "Eigenvalues:\n",
      "             PC1       PC2       PC3       PC4       PC5       PC6       PC7  \\\n",
      "AAPL   0.368897  0.119001 -0.070788 -0.082816 -0.080535 -0.004552  0.567599   \n",
      "MSFT   0.318763  0.343360 -0.053973  0.292894 -0.250726 -0.382459 -0.402876   \n",
      "JPM    0.358523  0.163557 -0.180253  0.267645 -0.026149 -0.248240  0.037744   \n",
      "GOOGL  0.283748 -0.453992  0.199141  0.137445  0.434738 -0.135721 -0.468518   \n",
      "AMZN   0.385777  0.170273 -0.211831  0.043549  0.018168  0.013745  0.101734   \n",
      "NVDA   0.334846  0.249204  0.026739  0.018372  0.050661  0.844330 -0.278389   \n",
      "TSLA   0.261821  0.214657  0.748402 -0.505951 -0.080477 -0.174267 -0.006292   \n",
      "XOM    0.251315 -0.357691 -0.476105 -0.646569 -0.301322 -0.048097 -0.239824   \n",
      "UNH    0.343934 -0.244344 -0.036332 -0.008307  0.548044 -0.036950  0.345647   \n",
      "V      0.205690 -0.557012  0.293664  0.374819 -0.583480  0.162882  0.172371   \n",
      "\n",
      "            PC8       PC9      PC10  \n",
      "AAPL   0.071863 -0.637389 -0.312698  \n",
      "MSFT   0.550396  0.018341 -0.130670  \n",
      "JPM   -0.703877  0.320326 -0.280716  \n",
      "GOOGL -0.158595 -0.450276  0.001435  \n",
      "AMZN  -0.072725 -0.073043  0.868287  \n",
      "NVDA   0.007570  0.058062 -0.168328  \n",
      "TSLA  -0.096072  0.140513  0.058492  \n",
      "XOM    0.006400  0.081683 -0.082665  \n",
      "UNH    0.393305  0.486293 -0.090870  \n",
      "V      0.044708  0.128211  0.074653  \n",
      "10.000000000000007\n"
     ]
    }
   ],
   "source": [
    "# Sort eigenvalues and eigenvectors\n",
    "idx = np.argsort(eigvals)[::-1]\n",
    "eigvals = eigvals[idx]\n",
    "eigvecs = eigvecs[:, idx]\n",
    "eigvecs_df = pd.DataFrame(eigvecs, index=tickers, columns=[f'PC{i+1}' for i in range(len(eigvals))])\n",
    "print(\"Eigenvalues:\\n\", eigvecs_df)\n",
    "print(sum(eigvals))  # should equal number of features (10)"
   ]
  },
  {
   "cell_type": "code",
   "execution_count": 8,
   "id": "09e43048",
   "metadata": {},
   "outputs": [
    {
     "name": "stdout",
     "output_type": "stream",
     "text": [
      "First few rows of Z (principal components):\n",
      "[[-1.35071060e+00  4.21516797e-01  7.69829148e-01 -4.38868204e-01\n",
      "  -5.35892499e-02 -2.22239569e-01  2.08986239e-01 -2.61756215e-01\n",
      "   3.21679264e-01 -8.60408402e-02]\n",
      " [ 1.01498819e+00  3.34440723e-01 -7.28701076e-02  1.83819865e-01\n",
      "  -6.48568513e-01 -5.23164427e-01 -5.86754981e-02 -5.83808639e-01\n",
      "   2.67806702e-01 -4.34638376e-01]\n",
      " [-4.91149940e-01  9.15345342e-01  6.76667948e-01 -4.86832327e-01\n",
      "  -1.85053782e-01  1.69137158e-01  2.88159358e-02  1.14359663e-01\n",
      "   5.38628744e-01 -3.15800438e-01]\n",
      " [ 1.39359039e+00 -3.92241542e-05 -1.29726154e-01 -1.53546014e+00\n",
      "   7.20474305e-01 -3.82836858e-01  4.43036981e-01 -2.40677546e-01\n",
      "   1.75140075e-03  2.43724212e-01]\n",
      " [ 9.18611193e-01  7.59464722e-02 -4.48606621e-01  7.70505170e-01\n",
      "   1.07013352e-01  1.64173020e-01  7.01527814e-01 -1.16101360e-02\n",
      "  -4.70628076e-01 -3.16317530e-03]]\n",
      "DatetimeIndex(['2020-01-03', '2020-01-06', '2020-01-07', '2020-01-08',\n",
      "               '2020-01-09', '2020-01-10', '2020-01-13', '2020-01-14',\n",
      "               '2020-01-15', '2020-01-16',\n",
      "               ...\n",
      "               '2024-12-17', '2024-12-18', '2024-12-19', '2024-12-20',\n",
      "               '2024-12-23', '2024-12-24', '2024-12-26', '2024-12-27',\n",
      "               '2024-12-30', '2024-12-31'],\n",
      "              dtype='datetime64[ns]', name='Date', length=1257, freq=None)\n",
      "<class 'pandas.core.indexes.datetimes.DatetimeIndex'>\n"
     ]
    }
   ],
   "source": [
    "Z = X @ eigvecs\n",
    "print(\"First few rows of Z (principal components):\")\n",
    "Z = np.array(X @ eigvecs)   # instead of just X @ eigvecs\n",
    "\n",
    "\n",
    "print(Z[:5])\n",
    "print(X.index)\n",
    "print(type(X.index))\n",
    "\n"
   ]
  },
  {
   "cell_type": "code",
   "execution_count": 9,
   "id": "8a733509",
   "metadata": {},
   "outputs": [
    {
     "name": "stdout",
     "output_type": "stream",
     "text": [
      "                 PC1       PC2       PC3       PC4       PC5       PC6  \\\n",
      "Date                                                                     \n",
      "2020-01-03 -1.350711  0.421517  0.769829 -0.438868 -0.053589 -0.222240   \n",
      "2020-01-06  1.014988  0.334441 -0.072870  0.183820 -0.648569 -0.523164   \n",
      "2020-01-07 -0.491150  0.915345  0.676668 -0.486832 -0.185054  0.169137   \n",
      "2020-01-08  1.393590 -0.000039 -0.129726 -1.535460  0.720474 -0.382837   \n",
      "2020-01-09  0.918611  0.075946 -0.448607  0.770505  0.107013  0.164173   \n",
      "\n",
      "                 PC7       PC8       PC9      PC10  \n",
      "Date                                                \n",
      "2020-01-03  0.208986 -0.261756  0.321679 -0.086041  \n",
      "2020-01-06 -0.058675 -0.583809  0.267807 -0.434638  \n",
      "2020-01-07  0.028816  0.114360  0.538629 -0.315800  \n",
      "2020-01-08  0.443037 -0.240678  0.001751  0.243724  \n",
      "2020-01-09  0.701528 -0.011610 -0.470628 -0.003163  \n"
     ]
    }
   ],
   "source": [
    "Z_df = pd.DataFrame(Z, index=X.index, columns=[f'PC{i+1}' for i in range(len(eigvals))])\n",
    "print(Z_df.head())"
   ]
  },
  {
   "cell_type": "code",
   "execution_count": 10,
   "id": "1257fe77",
   "metadata": {},
   "outputs": [],
   "source": [
    "N = Z.shape[0]  # number of samples\n",
    "C_manual = (Z.T @ Z) / (N - 1)\n"
   ]
  },
  {
   "cell_type": "code",
   "execution_count": 11,
   "id": "e38f0629",
   "metadata": {},
   "outputs": [],
   "source": [
    "X_reconstructed = Z @ eigvecs.T\n"
   ]
  },
  {
   "cell_type": "code",
   "execution_count": 12,
   "id": "001c2c7d",
   "metadata": {},
   "outputs": [
    {
     "name": "stdout",
     "output_type": "stream",
     "text": [
      "[[-0.53925381 -0.56860451 -0.29564606 ... -0.56455809 -0.47949793\n",
      "  -0.3968327 ]\n",
      " [ 0.34872906  0.62286864  1.24427033 ...  0.34002702 -0.14779039\n",
      "   0.32887208]\n",
      " [-0.28569723  0.06280925 -0.13401568 ... -0.34668959 -0.17522387\n",
      "  -0.40355649]\n",
      " ...\n",
      " [-0.71782439 -0.67577408 -0.7535233  ... -0.14642848 -0.42542398\n",
      "  -0.02854607]\n",
      " [-0.71889975 -0.51548686 -0.42604644 ... -0.25396158 -0.62674323\n",
      "  -0.33741491]\n",
      " [-0.4044984  -0.41210498 -0.53731532 ... -0.22878209  0.10739838\n",
      "   0.7591223 ]]\n"
     ]
    }
   ],
   "source": [
    "print(X_reconstructed)"
   ]
  },
  {
   "cell_type": "code",
   "execution_count": null,
   "id": "4ffad585",
   "metadata": {},
   "outputs": [],
   "source": []
  }
 ],
 "metadata": {
  "kernelspec": {
   "display_name": "Python 3",
   "language": "python",
   "name": "python3"
  },
  "language_info": {
   "codemirror_mode": {
    "name": "ipython",
    "version": 3
   },
   "file_extension": ".py",
   "mimetype": "text/x-python",
   "name": "python",
   "nbconvert_exporter": "python",
   "pygments_lexer": "ipython3",
   "version": "3.12.9"
  }
 },
 "nbformat": 4,
 "nbformat_minor": 5
}
