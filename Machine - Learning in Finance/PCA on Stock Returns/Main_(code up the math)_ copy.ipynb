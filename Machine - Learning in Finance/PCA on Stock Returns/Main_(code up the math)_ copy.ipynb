{
 "cells": [
  {
   "cell_type": "markdown",
   "id": "b5abeaaf",
   "metadata": {},
   "source": []
  },
  {
   "cell_type": "markdown",
   "id": "e061628b",
   "metadata": {},
   "source": [
    "# Data-driven Finance: Unobservable Factors & PCA\n",
    "\n",
    "In classical finance, we often assume certain factors drive stock returns. Here, we relax this assumption and let **data itself discover the factors**.  \n",
    "\n",
    "We are entering the realm of **unsupervised learning**, where the goal is to find structure in data without pre-labeled outcomes.  \n",
    "\n",
    "The first step is to collect daily stock prices for a set of stocks (here: Dow Jones tickers) and prepare the data for analysis.\n",
    "\n"
   ]
  },
  {
   "cell_type": "code",
   "execution_count": 20,
   "id": "dd46e1a9",
   "metadata": {},
   "outputs": [
    {
     "name": "stderr",
     "output_type": "stream",
     "text": [
      "C:\\Users\\USER\\AppData\\Local\\Temp\\ipykernel_19644\\513063869.py:9: FutureWarning: YF.download() has changed argument auto_adjust default to True\n",
      "  data_full = yf.download(tickers, start=\"2020-01-01\", end=\"2025-01-01\")\n",
      "[*********************100%***********************]  10 of 10 completed"
     ]
    },
    {
     "name": "stdout",
     "output_type": "stream",
     "text": [
      "Ticker           AAPL       AMZN      GOOGL         JPM        MSFT      NVDA  \\\n",
      "Date                                                                            \n",
      "2020-01-02  72.538513  94.900497  67.965233  119.573349  152.791122  5.971409   \n",
      "2020-01-03  71.833275  93.748497  67.609680  117.995438  150.888626  5.875831   \n",
      "2020-01-06  72.405678  95.143997  69.411774  117.901588  151.278610  5.900472   \n",
      "2020-01-07  72.065140  95.343002  69.277687  115.897209  149.899307  5.971908   \n",
      "2020-01-08  73.224411  94.598503  69.770790  116.801292  152.286942  5.983108   \n",
      "\n",
      "Ticker           TSLA         UNH           V        XOM  \n",
      "Date                                                      \n",
      "2020-01-02  28.684000  267.026367  183.549103  54.131077  \n",
      "2020-01-03  29.534000  264.324127  182.089340  53.695881  \n",
      "2020-01-06  30.102667  266.159180  181.695587  54.108173  \n",
      "2020-01-07  31.270666  264.552338  181.215332  53.665337  \n",
      "2020-01-08  32.809334  270.130310  184.317383  52.856041  \n"
     ]
    },
    {
     "name": "stderr",
     "output_type": "stream",
     "text": [
      "\n"
     ]
    }
   ],
   "source": [
    "import yfinance as yf\n",
    "import pandas as pd\n",
    "import numpy as np\n",
    "\n",
    "\n",
    "tickers = ['AAPL', 'MSFT', 'JPM', 'GOOGL', 'AMZN', 'NVDA', 'TSLA', 'XOM', 'UNH', 'V']\n",
    "\n",
    "# Download all data\n",
    "data_full = yf.download(tickers, start=\"2020-01-01\", end=\"2025-01-01\")\n",
    "\n",
    "# Extract only the closing prices for each ticker\n",
    "data = data_full['Close']\n",
    "\n",
    "# Display the first few rows\n",
    "print(data.head())\n"
   ]
  },
  {
   "cell_type": "markdown",
   "id": "6f08e1c2",
   "metadata": {},
   "source": [
    "# Compute Daily Log Returns and Standardize\n",
    "\n",
    "Let $P_t$ be the price at time $t$. Daily **returns** are:\n",
    "\n",
    "$$\n",
    "R_t = \\frac{P_t - P_{t-1}}{P_{t-1}}\n",
    "$$\n",
    "\n",
    "We then compute **log returns** to handle compounding:\n",
    "\n",
    "$$\n",
    "r_t = \\log(1 + R_t)\n",
    "$$\n",
    "\n",
    "Finally, we **standardize** the returns to zero mean and unit variance:\n",
    "\n",
    "$$\n",
    "X = \\frac{r_t - \\bar{r}}{\\sigma_r}\n",
    "$$\n",
    "\n",
    "This gives us the **data matrix $X$** used for PCA.\n",
    "\n"
   ]
  },
  {
   "cell_type": "markdown",
   "id": "74b2fdd0",
   "metadata": {},
   "source": []
  },
  {
   "cell_type": "code",
   "execution_count": 21,
   "id": "069ff0b5",
   "metadata": {},
   "outputs": [],
   "source": [
    "returns = data.pct_change().dropna()\n",
    "\n",
    "log_returns = np.log(1 + returns)\n",
    "\n"
   ]
  },
  {
   "cell_type": "code",
   "execution_count": 30,
   "id": "8dd3b7e8",
   "metadata": {},
   "outputs": [
    {
     "name": "stdout",
     "output_type": "stream",
     "text": [
      "Ticker          AAPL      AMZN     GOOGL       JPM      MSFT      NVDA  \\\n",
      "Date                                                                     \n",
      "2020-01-03 -0.539248 -0.568605 -0.295657 -0.676133 -0.693405 -0.552076   \n",
      "2020-01-06  0.348745  0.622869  1.244287 -0.065179  0.092487  0.050678   \n",
      "2020-01-07 -0.285713  0.062809 -0.134026 -0.865098 -0.518121  0.283506   \n",
      "2020-01-08  0.751024 -0.375507  0.306532  0.353893  0.780108 -0.017875   \n",
      "2020-01-09  1.004779  0.181927  0.470071  0.152062  0.603958  0.250546   \n",
      "\n",
      "Ticker          TSLA       UNH         V       XOM  \n",
      "Date                                                \n",
      "2020-01-03  0.642066 -0.564571 -0.479493 -0.396842  \n",
      "2020-01-06  0.402025  0.340058 -0.147786  0.328875  \n",
      "2020-01-07  0.852087 -0.346702 -0.175253 -0.403573  \n",
      "2020-01-08  1.088214  1.078324  0.942967 -0.725660  \n",
      "2020-01-09 -0.575597 -0.327564  0.369204  0.327839  \n"
     ]
    }
   ],
   "source": [
    "X = (log_returns - log_returns.mean()) / log_returns.std()\n",
    "print(X.head())"
   ]
  },
  {
   "cell_type": "markdown",
   "id": "6f4e8c6a",
   "metadata": {},
   "source": [
    "# Covariance Matrix of Standardized Returns\n",
    "\n",
    "Once we have the standardized returns \\(X\\), we compute the **covariance matrix** \\(C\\):\n",
    "\n",
    "$$\n",
    "C = \\frac{X^T X}{N}\n",
    "$$\n",
    "\n",
    "Where:\n",
    "\n",
    "- \\(X\\) is the standardized returns matrix (size \\(N \\times P\\))\n",
    "- \\(N\\) is the number of observations (days)\n",
    "- \\(C\\) is a \\(P \\times P\\) matrix representing **pairwise correlations** between stocks\n",
    "\n",
    "The covariance matrix captures the linear relationships between stocks. A covariance of 0 means no linear correlation, while positive/negative values indicate positive/negative co-movement.\n",
    "\n",
    "**Note:** Since \\(X\\) is standardized, the covariance matrix is equivalent to the **correlation matrix**.\n",
    "\n",
    "This matrix is not diagonal, meaning the stock returns are **correlated**.\n"
   ]
  },
  {
   "cell_type": "code",
   "execution_count": 23,
   "id": "932f608b",
   "metadata": {},
   "outputs": [
    {
     "name": "stdout",
     "output_type": "stream",
     "text": [
      "           AAPL      MSFT       JPM     GOOGL      AMZN      NVDA      TSLA  \\\n",
      "AAPL   1.000000  0.594780  0.652854  0.414321  0.750913  0.614656  0.492477   \n",
      "MSFT   0.594780  1.000000  0.649973  0.269223  0.680171  0.586771  0.436566   \n",
      "JPM    0.652854  0.649973  1.000000  0.406429  0.747924  0.600683  0.406230   \n",
      "GOOGL  0.414321  0.269223  0.406429  1.000000  0.424329  0.332254  0.282216   \n",
      "AMZN   0.750913  0.680171  0.747924  0.424329  1.000000  0.688373  0.456088   \n",
      "NVDA   0.614656  0.586771  0.600683  0.332254  0.688373  1.000000  0.476880   \n",
      "TSLA   0.492477  0.436566  0.406230  0.282216  0.456088  0.476880  1.000000   \n",
      "XOM    0.422115  0.213523  0.347108  0.457493  0.435818  0.292680  0.198554   \n",
      "UNH    0.585935  0.409002  0.548355  0.618969  0.609751  0.480090  0.361437   \n",
      "V      0.288141  0.135746  0.263653  0.572315  0.248586  0.187483  0.152204   \n",
      "\n",
      "            XOM       UNH         V  \n",
      "AAPL   0.422115  0.585935  0.288141  \n",
      "MSFT   0.213523  0.409002  0.135746  \n",
      "JPM    0.347108  0.548355  0.263653  \n",
      "GOOGL  0.457493  0.618969  0.572315  \n",
      "AMZN   0.435818  0.609751  0.248586  \n",
      "NVDA   0.292680  0.480090  0.187483  \n",
      "TSLA   0.198554  0.361437  0.152204  \n",
      "XOM    1.000000  0.500144  0.368919  \n",
      "UNH    0.500144  1.000000  0.455864  \n",
      "V      0.368919  0.455864  1.000000  \n"
     ]
    }
   ],
   "source": [
    "C = np.cov(X.T)\n",
    "\n",
    "# Option 1: Just print the covariance matrix\n",
    "# print(C)\n",
    "\n",
    "# Option 2: Convert to DataFrame for nicer display\n",
    "C_df = pd.DataFrame(C, index=tickers, columns=tickers)\n",
    "print(C_df)\n"
   ]
  },
  {
   "cell_type": "markdown",
   "id": "4097f498",
   "metadata": {},
   "source": []
  },
  {
   "cell_type": "markdown",
   "id": "66d25f9f",
   "metadata": {},
   "source": [
    "## Step 3: Linear Transformation with PCA\n",
    "\n",
    "We transform our standardized returns \\(X\\) into **uncorrelated components**:\n",
    "\n",
    "$$\n",
    "Z = X V\n",
    "$$\n",
    "\n",
    "Where:\n",
    "\n",
    "- \\(V \\in \\mathbb{R}^{P \\times P}\\) is an **orthogonal matrix** whose columns are the eigenvectors of the covariance matrix \\(C\\).\n",
    "- \\(Z \\in \\mathbb{R}^{N \\times P}\\) is the **encoded data** (principal components).\n",
    "\n",
    "**Key points:**\n",
    "\n",
    "1. Using all \\(P\\) components (\\(K = P\\)):\n",
    "\n",
    "$$\n",
    "\\text{Cov}(Z) = V^\\top C V = \\Lambda\n",
    "$$\n",
    "\n",
    "where \\(\\Lambda\\) is diagonal. This means the columns of \\(Z\\) are **uncorrelated**.\n",
    "\n",
    "2. Each column of \\(V\\) corresponds to the **weights of an eigen-portfolio**, simplifying correlated stock analysis.\n",
    "\n",
    "3. In practice, `sklearn` PCA computes \\(V\\) automatically as `pca.components_.T`.\n"
   ]
  },
  {
   "cell_type": "code",
   "execution_count": 24,
   "id": "de5212d9",
   "metadata": {},
   "outputs": [
    {
     "name": "stdout",
     "output_type": "stream",
     "text": [
      "Eigenvalues (λ):\n",
      "[5.15437062 1.46216599 0.70299724 0.62666778 0.19945144 0.30988348\n",
      " 0.31663159 0.37287482 0.4428116  0.41214544]\n",
      "\n",
      "Eigenvectors (U):\n",
      "[[ 0.36889691  0.11900097 -0.07078759 -0.08281578 -0.31270072 -0.63739166\n",
      "   0.07184211  0.56759727 -0.08053554 -0.00454998]\n",
      " [ 0.31876325  0.34336009 -0.05397257  0.29289312 -0.13067054  0.01832165\n",
      "   0.55039488 -0.40287747 -0.25072604 -0.38245996]\n",
      " [ 0.35852272  0.16355659 -0.18025302  0.26764595 -0.2807151   0.32035289\n",
      "  -0.70386504  0.03774942 -0.02614941 -0.24824071]\n",
      " [ 0.28374775 -0.45399224  0.19914035  0.13744624  0.00143336 -0.45027008\n",
      "  -0.15861398 -0.46851783  0.43473814 -0.13572068]\n",
      " [ 0.38577668  0.17027278 -0.21183041  0.04354878  0.86828656 -0.07304374\n",
      "  -0.07272699  0.10173402  0.01816682  0.01374502]\n",
      " [ 0.33484581  0.24920466  0.02673784  0.01837031 -0.16832768  0.05806424\n",
      "   0.0075703  -0.27839073  0.05066102  0.84432934]\n",
      " [ 0.26182106  0.21465672  0.74840269 -0.50595039  0.05849197  0.14051558\n",
      "  -0.09606641 -0.00629115 -0.08047488 -0.17426809]\n",
      " [ 0.25131489 -0.35769146 -0.47610461 -0.64656973 -0.08266515  0.08168287\n",
      "   0.00640149 -0.23982384 -0.30132052 -0.04809893]\n",
      " [ 0.34393394 -0.24434399 -0.03633279 -0.00830615 -0.09086717  0.48627737\n",
      "   0.39332454  0.34564617  0.54804485 -0.03694924]\n",
      " [ 0.20569    -0.55701208  0.29366437  0.37481753  0.07465261  0.12821008\n",
      "   0.04471402  0.17237043 -0.58348045  0.16288352]]\n",
      "--------------------------------------------------\n"
     ]
    }
   ],
   "source": [
    "\n",
    "# 4️⃣ Eigen decomposition\n",
    "eigvals, eigvecs = np.linalg.eig(C)\n",
    "\n",
    "print(\"Eigenvalues (λ):\")\n",
    "print(eigvals)\n",
    "print(\"\\nEigenvectors (U):\")\n",
    "print(eigvecs)\n",
    "print(\"-\" * 50)\n",
    "\n"
   ]
  },
  {
   "cell_type": "code",
   "execution_count": 25,
   "id": "52ebf3c3",
   "metadata": {},
   "outputs": [
    {
     "name": "stdout",
     "output_type": "stream",
     "text": [
      "Diagonal matrix Λ (of eigenvalues):\n",
      "[[5.15437062 0.         0.         0.         0.         0.\n",
      "  0.         0.         0.         0.        ]\n",
      " [0.         1.46216599 0.         0.         0.         0.\n",
      "  0.         0.         0.         0.        ]\n",
      " [0.         0.         0.70299724 0.         0.         0.\n",
      "  0.         0.         0.         0.        ]\n",
      " [0.         0.         0.         0.62666778 0.         0.\n",
      "  0.         0.         0.         0.        ]\n",
      " [0.         0.         0.         0.         0.19945144 0.\n",
      "  0.         0.         0.         0.        ]\n",
      " [0.         0.         0.         0.         0.         0.30988348\n",
      "  0.         0.         0.         0.        ]\n",
      " [0.         0.         0.         0.         0.         0.\n",
      "  0.31663159 0.         0.         0.        ]\n",
      " [0.         0.         0.         0.         0.         0.\n",
      "  0.         0.37287482 0.         0.        ]\n",
      " [0.         0.         0.         0.         0.         0.\n",
      "  0.         0.         0.4428116  0.        ]\n",
      " [0.         0.         0.         0.         0.         0.\n",
      "  0.         0.         0.         0.41214544]]\n",
      "--------------------------------------------------\n"
     ]
    }
   ],
   "source": [
    "# 5️⃣ Construct diagonal matrix of eigenvalues\n",
    "Λ = np.diag(eigvals)\n",
    "print(\"Diagonal matrix Λ (of eigenvalues):\")\n",
    "print(Λ)\n",
    "print(\"-\" * 50)"
   ]
  },
  {
   "cell_type": "code",
   "execution_count": 43,
   "id": "86d62098",
   "metadata": {},
   "outputs": [
    {
     "name": "stdout",
     "output_type": "stream",
     "text": [
      "Eigenvalues:\n",
      "             PC1       PC2       PC3       PC4       PC5       PC6       PC7  \\\n",
      "AAPL   0.368897  0.119001 -0.070788 -0.082816 -0.080536 -0.004550  0.567597   \n",
      "MSFT   0.318763  0.343360 -0.053973  0.292893 -0.250726 -0.382460 -0.402877   \n",
      "JPM    0.358523  0.163557 -0.180253  0.267646 -0.026149 -0.248241  0.037749   \n",
      "GOOGL  0.283748 -0.453992  0.199140  0.137446  0.434738 -0.135721 -0.468518   \n",
      "AMZN   0.385777  0.170273 -0.211830  0.043549  0.018167  0.013745  0.101734   \n",
      "NVDA   0.334846  0.249205  0.026738  0.018370  0.050661  0.844329 -0.278391   \n",
      "TSLA   0.261821  0.214657  0.748403 -0.505950 -0.080475 -0.174268 -0.006291   \n",
      "XOM    0.251315 -0.357691 -0.476105 -0.646570 -0.301321 -0.048099 -0.239824   \n",
      "UNH    0.343934 -0.244344 -0.036333 -0.008306  0.548045 -0.036949  0.345646   \n",
      "V      0.205690 -0.557012  0.293664  0.374818 -0.583480  0.162884  0.172370   \n",
      "\n",
      "            PC8       PC9      PC10  \n",
      "AAPL   0.071842 -0.637392 -0.312701  \n",
      "MSFT   0.550395  0.018322 -0.130671  \n",
      "JPM   -0.703865  0.320353 -0.280715  \n",
      "GOOGL -0.158614 -0.450270  0.001433  \n",
      "AMZN  -0.072727 -0.073044  0.868287  \n",
      "NVDA   0.007570  0.058064 -0.168328  \n",
      "TSLA  -0.096066  0.140516  0.058492  \n",
      "XOM    0.006401  0.081683 -0.082665  \n",
      "UNH    0.393325  0.486277 -0.090867  \n",
      "V      0.044714  0.128210  0.074653  \n",
      "10.00000000000001\n"
     ]
    }
   ],
   "source": [
    "# Sort eigenvalues and eigenvectors\n",
    "idx = np.argsort(eigvals)[::-1]\n",
    "eigvals = eigvals[idx]\n",
    "eigvecs = eigvecs[:, idx]\n",
    "eigvecs_df = pd.DataFrame(eigvecs, index=tickers, columns=[f'PC{i+1}' for i in range(len(eigvals))])\n",
    "print(\"Eigenvalues:\\n\", eigvecs_df)\n",
    "print(sum(eigvals))  # should equal number of features (10)"
   ]
  },
  {
   "cell_type": "code",
   "execution_count": null,
   "id": "09e43048",
   "metadata": {},
   "outputs": [],
   "source": [
    "Z = X @ eigvecs\n",
    "print(\"First few rows of Z (principal components):\")\n",
    "Z = np.array(X @ eigvecs)   # instead of just X @ eigvecs\n",
    "\n",
    "\n",
    "print(Z[:5])\n",
    "print(X.index)\n",
    "print(type(X.index))\n",
    "\n"
   ]
  },
  {
   "cell_type": "code",
   "execution_count": 44,
   "id": "8a733509",
   "metadata": {},
   "outputs": [
    {
     "name": "stdout",
     "output_type": "stream",
     "text": [
      "                 PC1       PC2       PC3       PC4       PC5       PC6  \\\n",
      "Date                                                                     \n",
      "2020-01-03 -1.350707  0.421521  0.769833 -0.438864 -0.053570 -0.222242   \n",
      "2020-01-06  1.014996  0.334433 -0.072886  0.183801 -0.648586 -0.523173   \n",
      "2020-01-07 -0.491170  0.915357  0.676675 -0.486831 -0.185047  0.169135   \n",
      "2020-01-08  1.393603 -0.000036 -0.129737 -1.535469  0.720468 -0.382842   \n",
      "2020-01-09  0.918607  0.075947 -0.448596  0.770520  0.107021  0.164186   \n",
      "\n",
      "                 PC7       PC8       PC9      PC10  \n",
      "Date                                                \n",
      "2020-01-03  0.208991 -0.261737  0.321674 -0.086024  \n",
      "2020-01-06 -0.058660 -0.583802  0.267839 -0.434667  \n",
      "2020-01-07  0.028791  0.114372  0.538609 -0.315784  \n",
      "2020-01-08  0.443065 -0.240675  0.001753  0.243702  \n",
      "2020-01-09  0.701512 -0.011621 -0.470621 -0.003135  \n"
     ]
    }
   ],
   "source": [
    "Z_df = pd.DataFrame(Z, index=X.index, columns=[f'PC{i+1}' for i in range(len(eigvals))])\n",
    "print(Z_df.head())"
   ]
  },
  {
   "cell_type": "code",
   "execution_count": 15,
   "id": "1257fe77",
   "metadata": {},
   "outputs": [],
   "source": [
    "N = Z.shape[0]  # number of samples\n",
    "C_manual = (Z.T @ Z) / (N - 1)\n"
   ]
  },
  {
   "cell_type": "code",
   "execution_count": 13,
   "id": "e38f0629",
   "metadata": {},
   "outputs": [],
   "source": [
    "X_reconstructed = Z @ eigvecs.T\n"
   ]
  },
  {
   "cell_type": "code",
   "execution_count": 14,
   "id": "001c2c7d",
   "metadata": {},
   "outputs": [
    {
     "name": "stdout",
     "output_type": "stream",
     "text": [
      "                   0         1         2         3         4         5  \\\n",
      "Date                                                                     \n",
      "2020-01-03 -0.539248 -0.568605 -0.295657 -0.676133 -0.693405 -0.552076   \n",
      "2020-01-06  0.348745  0.622869  1.244287 -0.065179  0.092487  0.050678   \n",
      "2020-01-07 -0.285713  0.062809 -0.134026 -0.865098 -0.518121  0.283506   \n",
      "2020-01-08  0.751024 -0.375507  0.306532  0.353893  0.780108 -0.017875   \n",
      "2020-01-09  1.004779  0.181927  0.470071  0.152062  0.603958  0.250546   \n",
      "...              ...       ...       ...       ...       ...       ...   \n",
      "2024-12-24  0.523050  0.746365  0.330095  0.771660  0.443486  0.043125   \n",
      "2024-12-26  0.109720 -0.416598 -0.166742  0.141035 -0.186381 -0.134869   \n",
      "2024-12-27 -0.717821 -0.675774 -0.753527 -0.424247 -0.949455 -0.698995   \n",
      "2024-12-30 -0.718903 -0.515487 -0.426046 -0.402976 -0.734911  0.030284   \n",
      "2024-12-31 -0.404498 -0.412105 -0.537311  0.053408 -0.451023 -0.771996   \n",
      "\n",
      "                   6         7         8         9  \n",
      "Date                                                \n",
      "2020-01-03  0.642066 -0.564571 -0.479493 -0.396842  \n",
      "2020-01-06  0.402025  0.340058 -0.147786  0.328875  \n",
      "2020-01-07  0.852087 -0.346702 -0.175253 -0.403573  \n",
      "2020-01-08  1.088214  1.078324  0.942967 -0.725660  \n",
      "2020-01-09 -0.575597 -0.327564  0.369204  0.327839  \n",
      "...              ...       ...       ...       ...  \n",
      "2024-12-24  1.632186 -0.051260  0.588543  0.019187  \n",
      "2024-12-26 -0.471294  0.499408  0.021792  0.014813  \n",
      "2024-12-27 -1.252188 -0.146429 -0.425419 -0.028549  \n",
      "2024-12-30 -0.845228 -0.253962 -0.626749 -0.337412  \n",
      "2024-12-31 -0.832929 -0.228782  0.107393  0.759122  \n",
      "\n",
      "[1257 rows x 10 columns]\n"
     ]
    }
   ],
   "source": [
    "print(X_reconstructed)"
   ]
  },
  {
   "cell_type": "code",
   "execution_count": null,
   "id": "4ffad585",
   "metadata": {},
   "outputs": [],
   "source": []
  }
 ],
 "metadata": {
  "kernelspec": {
   "display_name": "Python 3",
   "language": "python",
   "name": "python3"
  },
  "language_info": {
   "codemirror_mode": {
    "name": "ipython",
    "version": 3
   },
   "file_extension": ".py",
   "mimetype": "text/x-python",
   "name": "python",
   "nbconvert_exporter": "python",
   "pygments_lexer": "ipython3",
   "version": "3.12.9"
  }
 },
 "nbformat": 4,
 "nbformat_minor": 5
}
